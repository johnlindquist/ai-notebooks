{
  "cells": [
    {
      "cell_type": "markdown",
      "metadata": {
        "id": "W5x7XXdIhxQD"
      },
      "source": [
        "# ImageSorter\n",
        "\n",
        "This notebook lets you sort a folder of images by perceptual similarity. Why would you want to do this? \n",
        "* Sort your StyleGAN seed images for smoother interpolation animations\n",
        "* Sort generative image variations then use FiLM for cool animations\n",
        "* Sort generative image variations then make into animated GIF\n",
        "* Sort images for a collection and look for dupes or ones too similar\n",
        "* Sort art work in a pleasing progression for a metaverse show\n",
        "* Sort things for fun because you're bored \n",
        "\n",
        "<br>\n",
        "\n",
        "Limitations:\n",
        "* If you have a ton of images you may run out of RAM or finding the optimal order may take a long time.\n",
        "\n",
        "<br>\n",
        "\n",
        "If you're looking for more Ai art tools check out my [Ai generative art tools list](https://pharmapsychotic.com/tools.html).\n"
      ]
    },
    {
      "cell_type": "code",
      "source": [
        "#@title Check GPU\n",
        "!nvidia-smi -L"
      ],
      "metadata": {
        "cellView": "form",
        "id": "cNgPQRyBBuQW"
      },
      "execution_count": null,
      "outputs": []
    },
    {
      "cell_type": "code",
      "source": [
        "#@title Mount Google Drive\n",
        "from google.colab import drive\n",
        "drive.mount('/content/gdrive')"
      ],
      "metadata": {
        "cellView": "form",
        "id": "H7cIqFjS9Xgu"
      },
      "execution_count": null,
      "outputs": []
    },
    {
      "cell_type": "code",
      "source": [
        "#@title Setup\n",
        "!pip install lpips==0.1.4 -q\n",
        "!pip install python-tsp==0.4.1 -q\n",
        "\n",
        "import lpips\n",
        "import numpy as np\n",
        "import os\n",
        "import PIL.Image\n",
        "import shutil\n",
        "import torch\n",
        "import torchvision.transforms.functional as TF\n",
        "from tqdm import tqdm\n",
        "from python_tsp.heuristics import solve_tsp_simulated_annealing\n",
        "\n",
        "def load_image(path, dims):\n",
        "    image = PIL.Image.open(path).convert(\"RGB\")\n",
        "    image = image.resize((dims, dims), PIL.Image.BILINEAR)\n",
        "    return TF.to_tensor(image).to(device).mul(2).sub(1)"
      ],
      "metadata": {
        "cellView": "form",
        "id": "5arJtHsF9ddd"
      },
      "execution_count": null,
      "outputs": []
    },
    {
      "cell_type": "code",
      "source": [
        "#@title Let's sort some images!\n",
        "images_folder = \"/content/gdrive/MyDrive/AI/images\" #@param {type:\"string\"}\n",
        "sorted_folder = \"/content/gdrive/MyDrive/AI/images/sorted\" #@param {type:\"string\"}\n",
        "perceptual_model = 'alex' #@param ['alex', 'squeeze', 'vgg']  \n",
        "max_sort_minutes = 5 #@param {type: \"integer\"}\n",
        "\n",
        "device = torch.device(f'cuda:0')\n",
        "lpips_model = lpips.LPIPS(net=perceptual_model).to(device)\n",
        "\n",
        "files = [file for file in os.listdir(images_folder) if os.path.splitext(file)[1] in ['.png', '.jpg', '.jpeg']]\n",
        "if not len(files):\n",
        "    raise Exception(f\"No image files found in {images_folder}\")\n",
        "\n",
        "gpu_images = []\n",
        "for file in tqdm(files, desc=\"Loading images\"):\n",
        "    gpu_images.append(load_image(os.path.join(images_folder, file), 128))\n",
        "\n",
        "indexes = [i for i in range(len(gpu_images))]\n",
        "distances = np.zeros((len(indexes), len(indexes)))\n",
        "for a in tqdm(range(len(indexes)), desc=\"Computing distances\"):\n",
        "    for b in range(a+1, len(indexes)):\n",
        "        diff = lpips_model(gpu_images[a], gpu_images[b])\n",
        "        distances[a][b] = diff\n",
        "        distances[b][a] = diff\n",
        "\n",
        "print(f\"Solving for optimal order using up to {max_sort_minutes} minutes...\")\n",
        "ordering, total_distance = solve_tsp_simulated_annealing(distances, max_processing_time=max_sort_minutes*60)\n",
        "\n",
        "print(f\"Saving in sorted order to {sorted_folder}...\")\n",
        "if not os.path.exists(sorted_folder):\n",
        "    os.makedirs(sorted_folder)\n",
        "for i in range(len(files)):\n",
        "    file = files[ordering[i]] \n",
        "    base, ext = os.path.splitext(file)\n",
        "    dest = os.path.join(sorted_folder, f\"{i:04d}_{base}.{ext}\")\n",
        "    if os.path.exists(dest):\n",
        "        os.remove(dest)\n",
        "    shutil.copyfile(os.path.join(images_folder, file), dest)\n",
        "\n",
        "print(\"Sorted order:\")\n",
        "print([os.path.splitext(files[ordering[i]])[0] for i in range(len(ordering))])\n"
      ],
      "metadata": {
        "cellView": "form",
        "id": "WPnZwe9-Bymt"
      },
      "execution_count": null,
      "outputs": []
    }
  ],
  "metadata": {
    "accelerator": "GPU",
    "colab": {
      "collapsed_sections": [],
      "name": "pharmapsychotic ImageSorter",
      "provenance": []
    },
    "kernelspec": {
      "display_name": "Python 3",
      "name": "python3"
    },
    "language_info": {
      "name": "python"
    }
  },
  "nbformat": 4,
  "nbformat_minor": 0
}
